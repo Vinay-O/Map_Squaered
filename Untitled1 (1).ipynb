{
 "cells": [
  {
   "cell_type": "code",
   "execution_count": 4,
   "id": "bf4fba67",
   "metadata": {},
   "outputs": [
    {
     "name": "stdout",
     "output_type": "stream",
     "text": [
      "Original Numbers:  [4, 5, 2, 9]\n",
      "\n",
      "Squared list: [16, 25, 4, 81]\n"
     ]
    }
   ],
   "source": [
    "def sq_numbr(x):\n",
    "  return x * x\n",
    "numbrs = [4, 5, 2, 9]\n",
    "print(\"Original Numbers: \",numbrs)\n",
    "result = map(sq_numbr, numbrs)\n",
    "print(\"\\nSquared list:\",list(result))"
   ]
  },
  {
   "cell_type": "code",
   "execution_count": null,
   "id": "dfbf116b",
   "metadata": {},
   "outputs": [],
   "source": []
  }
 ],
 "metadata": {
  "kernelspec": {
   "display_name": "Python 3 (ipykernel)",
   "language": "python",
   "name": "python3"
  },
  "language_info": {
   "codemirror_mode": {
    "name": "ipython",
    "version": 3
   },
   "file_extension": ".py",
   "mimetype": "text/x-python",
   "name": "python",
   "nbconvert_exporter": "python",
   "pygments_lexer": "ipython3",
   "version": "3.10.9"
  }
 },
 "nbformat": 4,
 "nbformat_minor": 5
}
